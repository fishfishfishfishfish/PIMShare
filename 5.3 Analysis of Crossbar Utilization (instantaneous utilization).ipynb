{
 "cells": [
  {
   "cell_type": "code",
   "execution_count": 1,
   "id": "fa7311f8",
   "metadata": {},
   "outputs": [],
   "source": [
    "import os\n",
    "\n",
    "import pandas\n",
    "import numpy\n",
    "import matplotlib.pyplot as plt\n",
    "\n",
    "from ProblemInstance import ProblemInstance\n",
    "from baseline_intra import bl_intra_1\n",
    "from baseline_request import bl_req_FCFS\n",
    "from our_approach import leader_follower"
   ]
  },
  {
   "cell_type": "code",
   "execution_count": 2,
   "id": "06dec04b",
   "metadata": {},
   "outputs": [],
   "source": [
    "def get_xb_utilization(problem, plan):\n",
    "    return problem.utilization_xb(*problem.get_pc_packages_from_plan(*plan))\n",
    "def get_buf_utilization(problem, plan):\n",
    "    return problem.utilization_buf(*problem.get_pc_packages_from_plan(*plan))\n",
    "\n",
    "def bar_utilization(u, t, ax, xlim, ylim):\n",
    "    # print(u)\n",
    "    x = []\n",
    "    accum = 0\n",
    "    for time in t:\n",
    "        x.append(accum)\n",
    "        accum += time\n",
    "    print(x)\n",
    "    ax.bar(x, u, t, align=\"edge\")\n",
    "    ax.set_xlim(*xlim)\n",
    "    ax.set_ylim(*ylim)\n",
    "    ax.get_xaxis().set_visible(False)\n",
    "    \n",
    "def plot_utilization(utilization, time, ax, xlim, ylim, color, label):\n",
    "    x = []\n",
    "    y = []\n",
    "    accum = 0\n",
    "    for t, u in zip(time, utilization):\n",
    "        x.append(accum)\n",
    "        y.append(u*100)\n",
    "        accum += t\n",
    "        x.append(accum)\n",
    "        y.append(u*100)\n",
    "    x.append(accum)\n",
    "    y.append(0)\n",
    "    ax.plot(x, y, color=color, label=label)\n",
    "    ax.fill_between(x, y, 0, facecolor=color, alpha=0.1)\n",
    "    ax.set_xlim(*xlim)\n",
    "    ax.set_ylim(*ylim)\n",
    "    ax.spines[\"right\"].set_visible(False)\n",
    "    ax.spines[\"top\"].set_visible(False)\n",
    "    ax.plot(1, 0, \">k\", transform=ax.get_yaxis_transform(), clip_on=False)  # draw arrow\n",
    "    ax.plot(0, 1, \"^k\", transform=ax.get_xaxis_transform(), clip_on=False)  # draw arrow\n",
    "    \n",
    "    ax.set_yticks([0, 25, 50, 75, 100], labels=[\"0%\", \"\", \"50%\", \"\", \"100%\"], fontsize=15)\n",
    "    ax.grid()"
   ]
  },
  {
   "cell_type": "code",
   "execution_count": 3,
   "id": "97af7959",
   "metadata": {},
   "outputs": [],
   "source": [
    "fontsize = 15\n",
    "neurosim_dir = \"NetStructure\"  # directory store network structure description file following NeuroSim\n",
    "summary_file = \"NeuroSIMOut/summary.csv\"  # simulation result get from NeuroSim"
   ]
  },
  {
   "cell_type": "code",
   "execution_count": 4,
   "id": "110cd057",
   "metadata": {},
   "outputs": [
    {
     "data": {
      "image/png": "[encoded data removed]",
      "text/plain": [
       "<Figure size 432x216 with 3 Axes>"
      ]
     },
     "metadata": {
      "needs_background": "light"
     },
     "output_type": "display_data"
    }
   ],
   "source": [
    "xlim = (0, 2.1e8)\n",
    "ylim = (0, 125)\n",
    "seed = 10\n",
    "n_req = 50000\n",
    "\n",
    "p = [2.82429036e-04, 2.84984955e-04, 4.24295402e-01, 6.32636469e-02, 6.48997757e-02, 6.37997795e-02, 6.48997757e-02, 1.98032806e-06,\n",
    "     6.20383998e-03, 4.99274052e-04, 2.63109153e-01, 3.76999064e-02, 1.04423292e-02, 8.72686318e-06, 6.40827886e-05, 1.38228265e-05,\n",
    "     8.39031629e-05, 1.47187441e-04]\n",
    "multi_model_problem = ProblemInstance(neurosim_dir)\n",
    "multi_model_problem.read_nn_profile(summary_file)\n",
    "multi_model_problem.get_random_requests_unequal(n_req, seed=seed, p = p)\n",
    "multi_model_problem.append_request()\n",
    "\n",
    "fig, axes = plt.subplots(3, 1, sharex=True, sharey=True, figsize=(6,3))\n",
    "\n",
    "plan_intra = bl_intra_1(multi_model_problem)\n",
    "plot_utilization(*(get_xb_utilization(multi_model_problem, plan_intra)), axes[0], xlim, ylim, color=\"sandybrown\", label=\"Intra\")\n",
    "\n",
    "package_inter = bl_req_FCFS(multi_model_problem) \n",
    "ax_inter = plt.subplot(3,1,2)\n",
    "plot_utilization(*multi_model_problem.utilization_xb(*package_inter), axes[1], xlim, ylim, color=\"yellowgreen\", label=\"Inter\")\n",
    "plt.ylabel(\"utilization\", fontsize=fontsize+2)\n",
    "\n",
    "plan_our = leader_follower(multi_model_problem)\n",
    "ax_our = plt.subplot(3,1,3)\n",
    "plot_utilization(*(get_xb_utilization(multi_model_problem, plan_our)), axes[2], xlim, ylim, color=\"steelblue\", label=\"PIMShare\")\n",
    "\n",
    "x_ticks = numpy.arange(8) * 0.25 * 1e8\n",
    "plt.xticks(x_ticks, [\"\" if i%2==0 else str(x/1e8) for i, x in enumerate(x_ticks)],fontsize=fontsize)\n",
    "plt.xlabel(\"time (ns)\", fontsize=fontsize+2)\n",
    "plt.text(1.9e8, 10, \"1e8\", fontsize=fontsize)\n",
    "\n",
    "handlers = []\n",
    "labels = []\n",
    "h, l = fig.axes[0].get_legend_handles_labels()\n",
    "handlers.append(h[0])\n",
    "labels.append(l[0])\n",
    "h, l = fig.axes[1].get_legend_handles_labels()\n",
    "handlers.append(h[0])\n",
    "labels.append(l[0])\n",
    "h, l = fig.axes[2].get_legend_handles_labels()\n",
    "handlers.append(h[0])\n",
    "labels.append(l[0])\n",
    "plt.legend(handlers, labels, ncol=3, loc=(-0.08,3.5), fontsize=fontsize+1)\n",
    "\n",
    "plt.show()"
   ]
  }
 ],
 "metadata": {
  "kernelspec": {
   "display_name": "Python 3 (ipykernel)",
   "language": "python",
   "name": "python3"
  },
  "language_info": {
   "codemirror_mode": {
    "name": "ipython",
    "version": 3
   },
   "file_extension": ".py",
   "mimetype": "text/x-python",
   "name": "python",
   "nbconvert_exporter": "python",
   "pygments_lexer": "ipython3",
   "version": "3.7.13"
  }
 },
 "nbformat": 4,
 "nbformat_minor": 5
}
