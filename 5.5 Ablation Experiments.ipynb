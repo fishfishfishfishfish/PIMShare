{
 "cells": [
  {
   "cell_type": "code",
   "execution_count": 1,
   "id": "0fdbc6fa",
   "metadata": {},
   "outputs": [],
   "source": [
    "import pandas\n",
    "import numpy\n",
    "import matplotlib.pyplot as plt\n",
    "\n",
    "from ProblemInstance import ProblemInstance\n",
    "\n",
    "from our_approach import leader_follower\n",
    "from ablation_random_leader import al_random_leader\n",
    "from ablation_no_duplication import al_no_duplication, al_no_duplication_leader, al_no_duplication_follower\n",
    "from ablation_batch import al_batch_equal, al_batch_one"
   ]
  },
  {
   "cell_type": "code",
   "execution_count": 2,
   "id": "295ad5d6",
   "metadata": {},
   "outputs": [],
   "source": [
    "def get_ops(problem, plan):\n",
    "    return problem.operation_per_second(*problem.get_pc_packages_from_plan(*plan))"
   ]
  },
  {
   "cell_type": "code",
   "execution_count": 3,
   "id": "166ae066",
   "metadata": {},
   "outputs": [],
   "source": [
    "n_req = 500\n",
    "n_seed = 100\n",
    "\n",
    "ops = numpy.zeros(6)\n",
    "\n",
    "multi_model_problem = ProblemInstance(\"NetStructure\")\n",
    "multi_model_problem.read_nn_profile(\"NeuroSIMOut/summary.csv\")\n",
    "\n",
    "for seed in range(n_seed):\n",
    "    request_possibility = numpy.random.randint(1,100,multi_model_problem.N_M)\n",
    "    # print(request_possibility)\n",
    "    # multi_model_problem.get_random_requests_unequal(n_req, seed=seed, p=request_possibility)\n",
    "    multi_model_problem.get_random_requests(n_req, seed=seed)\n",
    "\n",
    "    plan_our = leader_follower(multi_model_problem)\n",
    "    ops[0] += get_ops(multi_model_problem, plan_our)\n",
    "\n",
    "    plan_random_leader = al_random_leader(multi_model_problem, seed=seed)\n",
    "    ops[1] += get_ops(multi_model_problem, plan_random_leader)\n",
    "\n",
    "    plan_no_duplication_leader = al_no_duplication_leader(multi_model_problem)\n",
    "    ops[2] += get_ops(multi_model_problem, plan_no_duplication_leader)\n",
    "\n",
    "    plan_no_duplication_follower = al_no_duplication_follower(multi_model_problem)\n",
    "    ops[3] += get_ops(multi_model_problem, plan_no_duplication_follower)\n",
    "\n",
    "    plan_no_duplication = al_no_duplication(multi_model_problem)\n",
    "    ops[4] += get_ops(multi_model_problem, plan_no_duplication)\n",
    "\n",
    "    plan_batch_one = al_batch_one(multi_model_problem)\n",
    "    ops[5] += get_ops(multi_model_problem, plan_batch_one)\n",
    "ops /= n_seed"
   ]
  },
  {
   "cell_type": "code",
   "execution_count": 4,
   "id": "342fd743",
   "metadata": {
    "scrolled": true
   },
   "outputs": [
    {
     "data": {
      "image/png": "[encoded data removed]",
      "text/plain": [
       "<Figure size 216x216 with 1 Axes>"
      ]
     },
     "metadata": {
      "needs_background": "light"
     },
     "output_type": "display_data"
    }
   ],
   "source": [
    "fontsize=15\n",
    "plt.figure(figsize=(3, 3))\n",
    "names = [\"Original Leader Follower\", \"Random Leader\", \"No Duplication (Leader)\", \"No Duplication (Follower)\", \"No Duplication\", \"No Batching\"]\n",
    "n_col = 1\n",
    "width = 6\n",
    "width_per_col = width/n_col\n",
    "base_xticks = numpy.arange(len(names)) * (width+1)\n",
    "plt.barh(base_xticks-width/2, ops, height=width_per_col, label=\"Intra\")\n",
    "plt.xticks(fontsize=fontsize)\n",
    "plt.yticks(ticks=base_xticks-width_per_col/2, labels=names,rotation=0, fontsize=fontsize)\n",
    "plt.vlines([ops[0]], -10, base_xticks[-1]+5, linestyles=\"dashed\", color=\"black\")\n",
    "plt.ylabel(\"\")\n",
    "plt.xlabel(\"TOPS\", fontsize=fontsize)\n",
    "plt.ylim((-7, base_xticks[-1]+1))\n",
    "plt.show()"
   ]
  }
 ],
 "metadata": {
  "kernelspec": {
   "display_name": "Python 3 (ipykernel)",
   "language": "python",
   "name": "python3"
  },
  "language_info": {
   "codemirror_mode": {
    "name": "ipython",
    "version": 3
   },
   "file_extension": ".py",
   "mimetype": "text/x-python",
   "name": "python",
   "nbconvert_exporter": "python",
   "pygments_lexer": "ipython3",
   "version": "3.7.13"
  }
 },
 "nbformat": 4,
 "nbformat_minor": 5
}
